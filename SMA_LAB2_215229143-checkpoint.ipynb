{
 "cells": [
  {
   "cell_type": "markdown",
   "id": "e7ae3ccf",
   "metadata": {
    "id": "855b51fc"
   },
   "source": [
    "## NAME: VASAVI R\n",
    "## ROLL_NO: 215229143\n",
    "## SUBJECT: SOCIAL MEDIA ANALYSIS"
   ]
  },
  {
   "cell_type": "markdown",
   "id": "1dce277c",
   "metadata": {
    "id": "1dce277c"
   },
   "source": [
    "# Lab 2. Querying user’s connection information using Facebook Graph API and retrieving feed and engagement"
   ]
  },
  {
   "cell_type": "markdown",
   "id": "8eb6b15e",
   "metadata": {
    "id": "8eb6b15e"
   },
   "source": [
    "### Step 1:\n",
    "\n",
    "To get started, log in to your Facebook account and go\n",
    "to https://developers.facebook.com/tools/explorer/ to obtain an ACCESS_TOKEN, and then\n",
    "paste it into the code cell below."
   ]
  },
  {
   "cell_type": "code",
   "execution_count": 1,
   "id": "349b0757",
   "metadata": {
    "id": "349b0757"
   },
   "outputs": [],
   "source": [
    "ACCESS_TOKEN = \"EAARxdGGsjH0BAOGmT7rldhJMMTNZBBSmZBIuZAs0Pbql5Ce7yuwAIraCtPEwJdZBLn8xvzoZAxuno3ZBZAEK1htdjhpoZAzN2BsvU69rh4EQYClwcJm14vKKvhP07fS8hnPs6vbYrrWslhsptmUXPwjU2ZAPZATm3dOs5kK7nRUJZCSy8JT6xq6ggDZAfuOfFaKW1wD1x5ZCn0HKZCZAwZDZD\""
   ]
  },
  {
   "cell_type": "markdown",
   "id": "516f3b59",
   "metadata": {
    "id": "516f3b59"
   },
   "source": [
    "### Step 2: Install the necessary libraries"
   ]
  },
  {
   "cell_type": "code",
   "execution_count": 3,
   "id": "tueudP0zSbHk",
   "metadata": {
    "colab": {
     "base_uri": "https://localhost:8080/"
    },
    "id": "tueudP0zSbHk",
    "outputId": "5c1135f3-bb28-416e-b4ea-0b4c438ecfbc"
   },
   "outputs": [
    {
     "name": "stdout",
     "output_type": "stream",
     "text": [
      "Looking in indexes: https://pypi.org/simple, https://us-python.pkg.dev/colab-wheels/public/simple/\n",
      "Collecting facebook-sdk\n",
      "  Downloading facebook_sdk-3.1.0-py2.py3-none-any.whl (7.5 kB)\n",
      "Requirement already satisfied: requests in /usr/local/lib/python3.7/dist-packages (from facebook-sdk) (2.23.0)\n",
      "Requirement already satisfied: chardet<4,>=3.0.2 in /usr/local/lib/python3.7/dist-packages (from requests->facebook-sdk) (3.0.4)\n",
      "Requirement already satisfied: urllib3!=1.25.0,!=1.25.1,<1.26,>=1.21.1 in /usr/local/lib/python3.7/dist-packages (from requests->facebook-sdk) (1.24.3)\n",
      "Requirement already satisfied: idna<3,>=2.5 in /usr/local/lib/python3.7/dist-packages (from requests->facebook-sdk) (2.10)\n",
      "Requirement already satisfied: certifi>=2017.4.17 in /usr/local/lib/python3.7/dist-packages (from requests->facebook-sdk) (2022.6.15)\n",
      "Installing collected packages: facebook-sdk\n",
      "Successfully installed facebook-sdk-3.1.0\n"
     ]
    }
   ],
   "source": [
    "!pip install facebook-sdk"
   ]
  },
  {
   "cell_type": "code",
   "execution_count": 4,
   "id": "c19092cc",
   "metadata": {
    "id": "c19092cc"
   },
   "outputs": [],
   "source": [
    "import facebook\n",
    "import urllib3\n",
    "import requests\n",
    "import json"
   ]
  },
  {
   "cell_type": "markdown",
   "id": "9842ce1d",
   "metadata": {
    "id": "9842ce1d"
   },
   "source": [
    "### Step 3: Querying the Graph API with Python"
   ]
  },
  {
   "cell_type": "code",
   "execution_count": 5,
   "id": "e78ac1f5",
   "metadata": {
    "colab": {
     "base_uri": "https://localhost:8080/"
    },
    "id": "e78ac1f5",
    "outputId": "2cc46163-5e6f-482a-e93a-ab1391586050"
   },
   "outputs": [
    {
     "name": "stdout",
     "output_type": "stream",
     "text": [
      "{\n",
      " \"name\": \"Vasavi R\",\n",
      " \"id\": \"116229291180965\"\n",
      "}\n"
     ]
    }
   ],
   "source": [
    "def pp(o):\n",
    "    print(json.dumps(o, indent=1))\n",
    "g = facebook.GraphAPI(ACCESS_TOKEN, version='2.10')\n",
    "pp(g.get_object('me'))"
   ]
  },
  {
   "cell_type": "markdown",
   "id": "a9a2f606",
   "metadata": {
    "id": "a9a2f606"
   },
   "source": [
    "### Step 4: Get the user's connection names - likes , friends, feed, groups- This may require permissions"
   ]
  },
  {
   "cell_type": "code",
   "execution_count": 6,
   "id": "4c8130df",
   "metadata": {
    "colab": {
     "base_uri": "https://localhost:8080/"
    },
    "id": "4c8130df",
    "outputId": "f0ea08dd-d9a5-4f3f-d4ef-03b8b71f04fa"
   },
   "outputs": [
    {
     "name": "stdout",
     "output_type": "stream",
     "text": [
      "{\n",
      " \"data\": []\n",
      "}\n",
      "{\n",
      " \"data\": [],\n",
      " \"summary\": {\n",
      "  \"total_count\": 18\n",
      " }\n",
      "}\n",
      "{\n",
      " \"data\": [\n",
      "  {\n",
      "   \"created_time\": \"2022-08-12T13:20:33+0000\",\n",
      "   \"id\": \"116229291180965_115997967870764\"\n",
      "  },\n",
      "  {\n",
      "   \"created_time\": \"2001-01-07T08:00:00+0000\",\n",
      "   \"id\": \"116229291180965_108299315307296\"\n",
      "  }\n",
      " ],\n",
      " \"paging\": {\n",
      "  \"previous\": \"https://graph.facebook.com/v14.0/116229291180965/feed?access_token=EAARxdGGsjH0BAOGmT7rldhJMMTNZBBSmZBIuZAs0Pbql5Ce7yuwAIraCtPEwJdZBLn8xvzoZAxuno3ZBZAEK1htdjhpoZAzN2BsvU69rh4EQYClwcJm14vKKvhP07fS8hnPs6vbYrrWslhsptmUXPwjU2ZAPZATm3dOs5kK7nRUJZCSy8JT6xq6ggDZAfuOfFaKW1wD1x5ZCn0HKZCZAwZDZD&__previous=1&since=1660310433&until&__paging_token=enc_AdDJnpbDjnC2ZAQHBBqfKbjH58N2pFRYNCb30MkhXxDJF0665ZCFIITZCJHnC9XQflL2ALQFoG3gn8JarBg0C8boRQO7bXl4NgkCVZB7ylYSaCZCCMgUndcKYgamlw0kUIfMG6kG8oloXDMi4hELATnguYUEx\",\n",
      "  \"next\": \"https://graph.facebook.com/v14.0/116229291180965/feed?access_token=EAARxdGGsjH0BAOGmT7rldhJMMTNZBBSmZBIuZAs0Pbql5Ce7yuwAIraCtPEwJdZBLn8xvzoZAxuno3ZBZAEK1htdjhpoZAzN2BsvU69rh4EQYClwcJm14vKKvhP07fS8hnPs6vbYrrWslhsptmUXPwjU2ZAPZATm3dOs5kK7nRUJZCSy8JT6xq6ggDZAfuOfFaKW1wD1x5ZCn0HKZCZAwZDZD&until=978854400&since&__paging_token=enc_AdBEBTWQj09GgmHGUOniOmvjMqClPoJmp4TjneFkamOZAhRhkZA3gxgp8qlbLo4DTajlfl7iClD66gon0NDQNQwPXpNUOcH1RRn0qNT4tCuV04VtIGgTsie8DXK0SVEyu60xv3e8fnHwEhRIsfMszzqBEr&__previous\"\n",
      " }\n",
      "}\n",
      "{\n",
      " \"data\": []\n",
      "}\n"
     ]
    }
   ],
   "source": [
    "pp(g.get_connections(id='me', connection_name='likes'))\n",
    "pp(g.get_connections(id='me', connection_name='friends'))\n",
    "pp(g.get_connections(id='me', connection_name='feed'))\n",
    "pp(g.get_connections(id='me', connection_name='groups'))"
   ]
  },
  {
   "cell_type": "markdown",
   "id": "80523de8",
   "metadata": {
    "id": "80523de8"
   },
   "source": [
    "### Step 5: Get Information about a feed in your facebook page"
   ]
  },
  {
   "cell_type": "code",
   "execution_count": 7,
   "id": "59e829c5",
   "metadata": {
    "colab": {
     "base_uri": "https://localhost:8080/"
    },
    "id": "59e829c5",
    "outputId": "3fcd7d7e-0377-4af7-c345-68752e7a888e"
   },
   "outputs": [
    {
     "name": "stdout",
     "output_type": "stream",
     "text": [
      "{\n",
      " \"data\": [\n",
      "  {\n",
      "   \"id\": \"116229291180965_115997967870764\"\n",
      "  },\n",
      "  {\n",
      "   \"id\": \"116229291180965_108299315307296\"\n",
      "  }\n",
      " ],\n",
      " \"paging\": {\n",
      "  \"previous\": \"https://graph.facebook.com/v14.0/116229291180965/feed?access_token=EAARxdGGsjH0BAOGmT7rldhJMMTNZBBSmZBIuZAs0Pbql5Ce7yuwAIraCtPEwJdZBLn8xvzoZAxuno3ZBZAEK1htdjhpoZAzN2BsvU69rh4EQYClwcJm14vKKvhP07fS8hnPs6vbYrrWslhsptmUXPwjU2ZAPZATm3dOs5kK7nRUJZCSy8JT6xq6ggDZAfuOfFaKW1wD1x5ZCn0HKZCZAwZDZD&fields=information&__previous=1&since=1660310433&until&__paging_token=enc_AdDJnpbDjnC2ZAQHBBqfKbjH58N2pFRYNCb30MkhXxDJF0665ZCFIITZCJHnC9XQflL2ALQFoG3gn8JarBg0C8boRQO7bXl4NgkCVZB7ylYSaCZCCMgUndcKYgamlw0kUIfMG6kG8oloXDMi4hELATnguYUEx\",\n",
      "  \"next\": \"https://graph.facebook.com/v14.0/116229291180965/feed?access_token=EAARxdGGsjH0BAOGmT7rldhJMMTNZBBSmZBIuZAs0Pbql5Ce7yuwAIraCtPEwJdZBLn8xvzoZAxuno3ZBZAEK1htdjhpoZAzN2BsvU69rh4EQYClwcJm14vKKvhP07fS8hnPs6vbYrrWslhsptmUXPwjU2ZAPZATm3dOs5kK7nRUJZCSy8JT6xq6ggDZAfuOfFaKW1wD1x5ZCn0HKZCZAwZDZD&fields=information&until=978854400&since&__paging_token=enc_AdBEBTWQj09GgmHGUOniOmvjMqClPoJmp4TjneFkamOZAhRhkZA3gxgp8qlbLo4DTajlfl7iClD66gon0NDQNQwPXpNUOcH1RRn0qNT4tCuV04VtIGgTsie8DXK0SVEyu60xv3e8fnHwEhRIsfMszzqBEr&__previous\"\n",
      " }\n",
      "}\n"
     ]
    }
   ],
   "source": [
    "pp(g.get_connections(id='me', connection_name='feed', fields='information', limit='100'))"
   ]
  },
  {
   "cell_type": "markdown",
   "id": "0f1351de",
   "metadata": {
    "id": "0f1351de"
   },
   "source": [
    "### Step 6: Get the metrics towards engagement of connections towards your Facebook post"
   ]
  },
  {
   "cell_type": "code",
   "execution_count": 8,
   "id": "13ef1c03",
   "metadata": {
    "colab": {
     "base_uri": "https://localhost:8080/"
    },
    "id": "13ef1c03",
    "outputId": "3ca571df-fd1c-4186-d26e-35bdcbb2d46d"
   },
   "outputs": [
    {
     "name": "stdout",
     "output_type": "stream",
     "text": [
      "{\n",
      " \"data\": [\n",
      "  {\n",
      "   \"created_time\": \"2022-08-12T13:20:33+0000\",\n",
      "   \"id\": \"116229291180965_115997967870764\"\n",
      "  },\n",
      "  {\n",
      "   \"caption\": \"Born\",\n",
      "   \"created_time\": \"2001-01-07T08:00:00+0000\",\n",
      "   \"id\": \"116229291180965_108299315307296\"\n",
      "  }\n",
      " ],\n",
      " \"paging\": {\n",
      "  \"previous\": \"https://graph.facebook.com/v14.0/116229291180965/posts?access_token=EAARxdGGsjH0BAOGmT7rldhJMMTNZBBSmZBIuZAs0Pbql5Ce7yuwAIraCtPEwJdZBLn8xvzoZAxuno3ZBZAEK1htdjhpoZAzN2BsvU69rh4EQYClwcJm14vKKvhP07fS8hnPs6vbYrrWslhsptmUXPwjU2ZAPZATm3dOs5kK7nRUJZCSy8JT6xq6ggDZAfuOfFaKW1wD1x5ZCn0HKZCZAwZDZD&fields=caption%2Ccreated_time%2Cdescription&__previous=1&since=1660310433&until&__paging_token=enc_AdDJnpbDjnC2ZAQHBBqfKbjH58N2pFRYNCb30MkhXxDJF0665ZCFIITZCJHnC9XQflL2ALQFoG3gn8JarBg0C8boRQO7bXl4NgkCVZB7ylYSaCZCCMgUndcKYgamlw0kUIfMG6kG8oloXDMi4hELATnguYUEx\",\n",
      "  \"next\": \"https://graph.facebook.com/v14.0/116229291180965/posts?access_token=EAARxdGGsjH0BAOGmT7rldhJMMTNZBBSmZBIuZAs0Pbql5Ce7yuwAIraCtPEwJdZBLn8xvzoZAxuno3ZBZAEK1htdjhpoZAzN2BsvU69rh4EQYClwcJm14vKKvhP07fS8hnPs6vbYrrWslhsptmUXPwjU2ZAPZATm3dOs5kK7nRUJZCSy8JT6xq6ggDZAfuOfFaKW1wD1x5ZCn0HKZCZAwZDZD&fields=caption%2Ccreated_time%2Cdescription&until=978854400&since&__paging_token=enc_AdBEBTWQj09GgmHGUOniOmvjMqClPoJmp4TjneFkamOZAhRhkZA3gxgp8qlbLo4DTajlfl7iClD66gon0NDQNQwPXpNUOcH1RRn0qNT4tCuV04VtIGgTsie8DXK0SVEyu60xv3e8fnHwEhRIsfMszzqBEr&__previous\"\n",
      " }\n",
      "}\n"
     ]
    }
   ],
   "source": [
    "pp(g.get_connections(id='me', connection_name='posts', fields='caption,created_time,description', limit='100'))"
   ]
  },
  {
   "cell_type": "code",
   "execution_count": 10,
   "id": "4499cee1",
   "metadata": {
    "colab": {
     "base_uri": "https://localhost:8080/"
    },
    "id": "4499cee1",
    "outputId": "df9089d9-1ee6-4bb5-b575-8ba870694175"
   },
   "outputs": [
    {
     "name": "stdout",
     "output_type": "stream",
     "text": [
      "{\n",
      " \"data\": [],\n",
      " \"summary\": {\n",
      "  \"total_count\": 18\n",
      " }\n",
      "}\n"
     ]
    }
   ],
   "source": [
    "pp(g.get_connections(id='me', connection_name='friends'))"
   ]
  },
  {
   "cell_type": "code",
   "execution_count": null,
   "id": "-S8WfSKTS-Y7",
   "metadata": {
    "id": "-S8WfSKTS-Y7"
   },
   "outputs": [],
   "source": []
  }
 ],
 "metadata": {
  "colab": {
   "name": "SMA_LAB2_215229143.ipynb",
   "provenance": []
  },
  "kernelspec": {
   "display_name": "Python 3",
   "language": "python",
   "name": "python3"
  },
  "language_info": {
   "codemirror_mode": {
    "name": "ipython",
    "version": 3
   },
   "file_extension": ".py",
   "mimetype": "text/x-python",
   "name": "python",
   "nbconvert_exporter": "python",
   "pygments_lexer": "ipython3",
   "version": "3.8.8"
  }
 },
 "nbformat": 4,
 "nbformat_minor": 5
}
